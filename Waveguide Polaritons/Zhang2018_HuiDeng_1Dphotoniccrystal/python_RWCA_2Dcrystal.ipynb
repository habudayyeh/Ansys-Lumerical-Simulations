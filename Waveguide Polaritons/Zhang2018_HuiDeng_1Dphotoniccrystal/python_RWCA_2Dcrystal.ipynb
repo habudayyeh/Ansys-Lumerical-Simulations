{
 "cells": [
  {
   "cell_type": "code",
   "execution_count": 1,
   "id": "6bd3c840",
   "metadata": {},
   "outputs": [],
   "source": [
    "import numpy as np\n",
    "from rcwa import Material, Layer, LayerStack, Source, Solver, Plotter, RectangularGrating, Crystal\n",
    "from rcwa.shorthand import complexArray\n",
    "import matplotlib.pyplot as plt\n",
    "from progressbar import ProgressBar, Counter, Bar, ETA\n",
    "from tqdm.notebook import tqdm\n"
   ]
  },
  {
   "cell_type": "markdown",
   "id": "616018e3",
   "metadata": {},
   "source": [
    "## Parameters for the simulation:"
   ]
  },
  {
   "cell_type": "code",
   "execution_count": 2,
   "id": "45bec63a",
   "metadata": {
    "scrolled": true
   },
   "outputs": [],
   "source": [
    "# Constants:\n",
    "rad_per_deg = np.pi/180.\n",
    "hc = 1.239847\n",
    "\n",
    "# Index of refraction functions:\n",
    "n_SiO2 = lambda wl : 1.45+0.0053/(wl**2)\n",
    "n_SiN = lambda wl : 2+0.013/(wl**2)\n",
    "eps_WS2 = lambda wl: 16 + 1.85/(2.013**2 - (hc/wl)**2 - (1j*hc*22e-3/wl))\n",
    "\n",
    "# Sweep parameters:\n",
    "startWavelength = 0.585\n",
    "stopWavelength = 0.635\n",
    "nstepsWavelength = 200\n",
    "wavelengths =np.linspace(startWavelength, stopWavelength, nstepsWavelength)\n",
    "\n",
    "\n",
    "startTheta = -25*rad_per_deg\n",
    "endTheta = 25*rad_per_deg\n",
    "nstepsTheta = 201\n",
    "thetas = np.linspace(startTheta, endTheta, nstepsTheta)\n",
    "\n",
    "# Layer parameters:\n",
    "period=0.413\n",
    "duty_cycle = 0.83\n",
    "etch_depth = 40e-3\n",
    "\n",
    "waveguide_thickness = 78e-3\n",
    "monolayer_thinkness = 0.7e-3\n",
    "\n",
    "\n"
   ]
  },
  {
   "cell_type": "markdown",
   "id": "eefc6a15",
   "metadata": {},
   "source": [
    "## Define Layers"
   ]
  },
  {
   "cell_type": "code",
   "execution_count": 3,
   "id": "ff50b218",
   "metadata": {},
   "outputs": [],
   "source": [
    "# From top to bottom\n",
    "layers = [\n",
    "    {'n': lambda wl: 1.}, # air\n",
    "    {'thickness': monolayer_thinkness, 'er': eps_WS2}, # monolayer\n",
    "    {'period': period, 'duty_cycle':duty_cycle, 'etch_depth':etch_depth, 'waveguide_thickness': waveguide_thickness, 'n': n_SiN}, # grating layer\n",
    "    {'n': n_SiO2}, # Substrate\n",
    "    \n",
    "]"
   ]
  },
  {
   "cell_type": "markdown",
   "id": "c8a6143e",
   "metadata": {},
   "source": [
    "## Define function to setup and solve"
   ]
  },
  {
   "cell_type": "code",
   "execution_count": 4,
   "id": "ced84745",
   "metadata": {},
   "outputs": [],
   "source": [
    "def create_crystal(n_grating, period, duty_cycle, n_etch= 1., Nx=100, Ny=100, verbose=False):\n",
    "    '''\n",
    "    Create a grating along the x direction\n",
    "    '''\n",
    "    t1, t2 = complexArray([period, 0, 0]), complexArray([0, period, 0])\n",
    "\n",
    "    x0 = np.linspace(-period/2,period/2,Nx)\n",
    "    y0 = np.linspace(-period/2,period/2,Ny)\n",
    "    x, y = np.meshgrid(x0,y0,indexing='ij')\n",
    "    epgrid = np.ones((Nx,Ny))*n_grating**2\n",
    "    ind = x**2<((1-duty_cycle)*period/2)**2\n",
    "    epgrid[ind]=n_etch**2\n",
    "    mugrid = 1 + 0*epgrid\n",
    "    device_crytal = Crystal(t1, t2, er=epgrid, ur=mugrid)\n",
    "    if verbose:\n",
    "        plt.pcolor(x0, y0, epgrid)\n",
    "    return device_crytal\n",
    "    \n",
    "def R_grating(wavelengths, thetas, layers, phi=90, p_tem = [1,0]):\n",
    "    '''\n",
    "    Calculating the reflection off of a 1D grating in a rib waveguide structure solved using 2D RWCA.\n",
    "    Params:\n",
    "        wavelengths: 1D array to sweep for wavelengths in units of microns\n",
    "        thetas: 1D array to sweep for incident angles (from surface normal) in radians\n",
    "        layers: List of parameters for each layer, first and last layer are the incident layer and substrate layer which are semiinfinite.\n",
    "        phi: xy-plane azimuthal angle, phi = 0 : projection onto x-axis, phi=90: projecction onto y-axis\n",
    "        p_tem: incident polarization [1,0] TE, [0,1] TM, can be complex to represent circular polarization\n",
    "    Returns:\n",
    "        R: Reflection intensity array of size (len(wavelengths), len(thetas))\n",
    "    '''\n",
    "    # Initialize variables\n",
    "    nstepsWavelength = len(wavelengths)\n",
    "    nstepsTheta = len(thetas)\n",
    "    R = np.zeros((nstepsWavelength, nstepsTheta))\n",
    "    # Initialize theta sweep progress bar\n",
    "    thbar = ProgressBar(widgets=[Counter(), f'/{nstepsTheta} ', Bar(), ETA()], maxval=nstepsTheta)\n",
    "\n",
    "    with tqdm(total=nstepsWavelength) as wlbar:  # Initialize wavelength progress bar\n",
    "        # Sweep wavelength\n",
    "        for i_wl, wl in enumerate(wavelengths):\n",
    "          # Setup the Geometry\n",
    "            layerobjs = []\n",
    "            ## Create first and last layer\n",
    "            air = Layer(n=layers[0]['n'](wl))\n",
    "            substrate = Layer(n=layers[-1]['n'](wl))\n",
    "            # loop and create other layers\n",
    "            for layer in layers[1:-1]:\n",
    "                # check if it is a grating layer or a uniform layer\n",
    "                if 'period' in layer.keys():  # if grating layer\n",
    "                    n_grating = layer['n'](wl)\n",
    "                    # Create grooves\n",
    "                    grating_layer = Layer(crystal=create_crystal(n_grating, layer['period'], layer['duty_cycle']),\n",
    "                                          thickness=layer['etch_depth'])\n",
    "                    layerobjs.append(grating_layer)\n",
    "                    # Create rest of waveguide layer\n",
    "                    layerobjs.append(Layer(thickness=layer['waveguide_thickness']-layer['etch_depth'], n=n_grating))\n",
    "                else: # Uniform layer\n",
    "                    if 'er' in layer.keys(): # if epsilon is given\n",
    "                        layerobjs.append(Layer(thickness=layer['thickness'], er=layer['er'](wl)))\n",
    "                    elif 'n' in layer.keys(): # if index of refraction is given\n",
    "                        layerobjs.append(Layer(thickness=layer['thickness'], n=layer['n'](wl)))\n",
    "        \n",
    "         # Create layer stack\n",
    "            stack = LayerStack(*layerobjs, transmission_layer=substrate, incident_layer=air)\n",
    "#             print(stack)\n",
    "#             break\n",
    "\n",
    "         # Setup the source\n",
    "            source = Source(wavelength=wl, theta=0., phi = phi, pTEM=p_tem, layer=air)    \n",
    "\n",
    "         # Setup the Solver\n",
    "            harmonics = (3,3)\n",
    "            solver = Solver(stack, source,harmonics)\n",
    "\n",
    "         # Solve\n",
    "            results = solver.solve(theta=thetas,  max_iters=1000, progressbar=thbar)\n",
    "            # Update wavelength bars\n",
    "            wlbar.update(1)\n",
    "\n",
    "            R[i_wl,:] = np.array(results['RTot'])\n",
    "    return wavelengths, thetas, R"
   ]
  },
  {
   "cell_type": "code",
   "execution_count": 5,
   "id": "e3ab8346",
   "metadata": {},
   "outputs": [
    {
     "data": {
      "application/vnd.jupyter.widget-view+json": {
       "model_id": "db414fa7728e4d41a43ab21a6363da1a",
       "version_major": 2,
       "version_minor": 0
      },
      "text/plain": [
       "  0%|          | 0/200 [00:00<?, ?it/s]"
      ]
     },
     "metadata": {},
     "output_type": "display_data"
    },
    {
     "name": "stderr",
     "output_type": "stream",
     "text": [
      "201/201 |#######################################################|Time:  0:00:01\n",
      "201/201 |#######################################################|Time:  0:00:01"
     ]
    }
   ],
   "source": [
    "wl, th, results = R_grating(wavelengths, thetas, layers)\n"
   ]
  },
  {
   "cell_type": "markdown",
   "id": "9ebe4ddd",
   "metadata": {},
   "source": [
    "##  Plot Results:"
   ]
  },
  {
   "cell_type": "code",
   "execution_count": 8,
   "id": "b58dd111",
   "metadata": {
    "scrolled": true
   },
   "outputs": [
    {
     "data": {
      "text/plain": [
       "(-5.0, 5.0)"
      ]
     },
     "execution_count": 8,
     "metadata": {},
     "output_type": "execute_result"
    },
    {
     "data": {
      "image/png": "[encoded data removed]",
      "text/plain": [
       "<Figure size 640x480 with 2 Axes>"
      ]
     },
     "metadata": {},
     "output_type": "display_data"
    }
   ],
   "source": [
    "cwl = (stopWavelength+startWavelength)/2\n",
    "k =  2*n_SiN(cwl)*np.pi*(np.sin(th)/cwl)\n",
    "plt.pcolor(k, hc/wl[:-1], np.diff(results,axis=0))\n",
    "\n",
    "plt.colorbar()\n",
    "plt.clim([0.002,0.1])\n",
    "plt.ylim([1.99,2.12])\n",
    "plt.xlim([-5,5])\n"
   ]
  },
  {
   "cell_type": "markdown",
   "id": "6556a751",
   "metadata": {},
   "source": [
    "# Save Results:"
   ]
  },
  {
   "cell_type": "code",
   "execution_count": 10,
   "id": "b4860d57",
   "metadata": {},
   "outputs": [],
   "source": [
    "import pickle\n",
    "with open('python_RWCA_'+str(period)+'.pkl', 'wb') as handle:\n",
    "    a = {'wavelength': wl, 'theta': th, 'R': results}\n",
    "    pickle.dump(a, handle, protocol=pickle.HIGHEST_PROTOCOL)"
   ]
  },
  {
   "cell_type": "code",
   "execution_count": null,
   "id": "e79c0d8b",
   "metadata": {},
   "outputs": [],
   "source": []
  }
 ],
 "metadata": {
  "kernelspec": {
   "display_name": "Python 3 (ipykernel)",
   "language": "python",
   "name": "python3"
  },
  "language_info": {
   "codemirror_mode": {
    "name": "ipython",
    "version": 3
   },
   "file_extension": ".py",
   "mimetype": "text/x-python",
   "name": "python",
   "nbconvert_exporter": "python",
   "pygments_lexer": "ipython3",
   "version": "3.10.9"
  }
 },
 "nbformat": 4,
 "nbformat_minor": 5
}
