{
 "cells": [
  {
   "cell_type": "code",
   "execution_count": 1,
   "id": "b99be01f",
   "metadata": {},
   "outputs": [],
   "source": [
    "import numpy as np\n",
    "from scipy.optimize import curve_fit\n",
    "import matplotlib.pyplot as plt\n",
    "import pickle\n",
    "from mpl_toolkits.mplot3d import Axes3D\n",
    "from sklearn import preprocessing as pre\n",
    "from scipy import ndimage, interpolate\n",
    "from copy import deepcopy\n",
    "%matplotlib qt"
   ]
  },
  {
   "cell_type": "markdown",
   "id": "3c1c18ca",
   "metadata": {},
   "source": [
    "## Parameters for the simulation:"
   ]
  },
  {
   "cell_type": "code",
   "execution_count": 34,
   "id": "a1d4c570",
   "metadata": {},
   "outputs": [],
   "source": [
    "# Constants:\n",
    "rad_per_deg = np.pi/180.\n",
    "hc = 1.239847\n",
    "\n",
    "\n",
    "# Exciton\n",
    "Ex = 2.013  # eV\n",
    "dEx = 22e-3 # linewidth eV\n",
    "\n",
    "# Max E\n",
    "max_E = 2.08\n",
    "\n",
    "# Photon dispersion shift from bare vs device with monolayer (probably due to the index of the monolayer)\n",
    "delta_E = 0.015"
   ]
  },
  {
   "cell_type": "markdown",
   "id": "f1c8586e",
   "metadata": {},
   "source": [
    "## Import Simulation Results"
   ]
  },
  {
   "cell_type": "code",
   "execution_count": 35,
   "id": "10aba04c",
   "metadata": {},
   "outputs": [],
   "source": [
    "with open('python_RWCA_0.35.pkl', 'rb') as handle:\n",
    "    results = pickle.load(handle)\n",
    "    \n",
    "# Ignore excess lines due to different modes\n",
    "ind = np.argmin((results['E'] - max_E)**2)\n",
    "results['R_no_monolayer'] = results['R_no_monolayer'][ind:]\n",
    "results['R_with_monolayer'] = results['R_with_monolayer'][ind:]\n",
    "results['E'] = results['E'][ind:]\n"
   ]
  },
  {
   "cell_type": "markdown",
   "id": "70a36359",
   "metadata": {},
   "source": [
    "### Plot Results:"
   ]
  },
  {
   "cell_type": "code",
   "execution_count": 36,
   "id": "bfb41a41",
   "metadata": {},
   "outputs": [
    {
     "data": {
      "text/plain": [
       "Text(0.5, 1.0, 'No Monolayer')"
      ]
     },
     "execution_count": 36,
     "metadata": {},
     "output_type": "execute_result"
    }
   ],
   "source": [
    "# plt.pcolor(thetas/rad_per_deg, hc/wl[:-1], np.diff(results,axis=0))\n",
    "# plt.pcolor(thetas/rad_per_deg, hc/wl, ndimage.sobel(results,axis=0)+ndimage.sobel(results,axis=0))\n",
    "plt.subplot(1,2,1)\n",
    "# plt.pcolor(thetas/rad_per_deg, hc/wl, results>0.006)\n",
    "plt.pcolor(results['theta']/rad_per_deg, results['E'], ndimage.sobel(results['R_with_monolayer'],axis=0))\n",
    "# plt.colorbar()\n",
    "\n",
    "plt.clim([0.002,0.005])\n",
    "# plt.ylim([1.96,2.09])\n",
    "plt.xlabel('theta (deg)')\n",
    "plt.ylabel('E (eV)')\n",
    "plt.title('With Monolayer')\n",
    "\n",
    "plt.subplot(1,2,2)\n",
    "plt.pcolor(results['theta']/rad_per_deg, results['E'], results['R_no_monolayer'])\n",
    "# plt.colorbar()\n",
    "plt.clim([0.002,0.5])\n",
    "# plt.ylim([1.96,2.09])\n",
    "plt.xlabel('theta (deg)')\n",
    "plt.ylabel('E (eV)')\n",
    "plt.title('No Monolayer')\n"
   ]
  },
  {
   "cell_type": "markdown",
   "id": "f1ab11c1",
   "metadata": {},
   "source": [
    "## Interpolate Photon mode\n",
    "By finding the maximum intensity for each angle and then interpolating"
   ]
  },
  {
   "cell_type": "code",
   "execution_count": 37,
   "id": "afbdb9b2",
   "metadata": {},
   "outputs": [
    {
     "data": {
      "text/plain": [
       "[<matplotlib.lines.Line2D at 0x27d5184ac50>]"
      ]
     },
     "execution_count": 37,
     "metadata": {},
     "output_type": "execute_result"
    }
   ],
   "source": [
    "# Find photon mode\n",
    "plt.pcolor(results['theta'], results['E'], results['R_no_monolayer'])\n",
    "x = np.zeros(results['R_no_monolayer'].shape[0])\n",
    "for i in range(results['R_no_monolayer'].shape[0]):\n",
    "    x[i] = results['theta'][np.argmax(results['R_no_monolayer'][i,:])]\n",
    "    \n",
    "photon_dispersion_line = interpolate.interp1d(x, results['E']-delta_E, fill_value='extrapolate')\n",
    "plt.plot(results['theta'], photon_dispersion_line(results['theta']), 'r', alpha = 0.2)"
   ]
  },
  {
   "cell_type": "markdown",
   "id": "fd092ffa",
   "metadata": {},
   "source": [
    "## Define Functions for Fitting:\n",
    "1. **polariton_dispersion_function**: Calculate dispersion separately for upper and lower polariton and combine them to get the overall 2D dispersion function\n",
    "2. **polariton_dispersion_line**: Returns the lines of the lower and upper polaritons. "
   ]
  },
  {
   "cell_type": "code",
   "execution_count": 38,
   "id": "0ae20235",
   "metadata": {},
   "outputs": [],
   "source": [
    "# split_ind = np.argmin((results['E']-Ex)**2)\n",
    "def polariton_dispersion_function(xy, g, dE, a):\n",
    "    x, y = xy\n",
    "    y_low = y[y<Ex]\n",
    "    y_up = y[y>=Ex]\n",
    "    E_lowpolariton, E_uppolariton = polariton_dispersion_line((x,y), g, dE, a)\n",
    "    func1 = a*np.exp(-((y_low-E_lowpolariton)/dE)**2)/(np.sqrt(2*dE))\n",
    "    func2 = a*np.exp(-((y_up-E_uppolariton)/dE)**2)/(np.sqrt(2*dE))\n",
    "    return np.concatenate((func2, func1), axis=0)\n",
    "\n",
    "def polariton_dispersion_line(xy, g, dE, a):\n",
    "    x, y = xy\n",
    "    E_photon = photon_dispersion_line(x)\n",
    "    E_lowpolariton = 0.5*(E_photon[y<Ex] + Ex - np.sqrt((E_photon[y<Ex] - Ex)**2 + 4*g**2))\n",
    "    E_uppolariton = 0.5*(E_photon[y>=Ex] + Ex + np.sqrt((E_photon[y>=Ex]- Ex)**2 + 4*g**2))\n",
    "    E_polariton = np.concatenate((E_lowpolariton, E_uppolariton), axis=0)\n",
    "    return E_lowpolariton, E_uppolariton\n"
   ]
  },
  {
   "cell_type": "code",
   "execution_count": 39,
   "id": "85958ecc",
   "metadata": {},
   "outputs": [
    {
     "name": "stdout",
     "output_type": "stream",
     "text": [
      "[0.0184115  0.005      0.02786764]\n",
      "[1.08373855e-04 8.46390771e-05 3.19186964e-04]\n"
     ]
    }
   ],
   "source": [
    "x = results['theta']\n",
    "y= results['E']\n",
    "X, Y = np.meshgrid(x,y)\n",
    "z = deepcopy(results['R_with_monolayer'])\n",
    "for i in range(z.shape[0]):\n",
    "    z[i,:]/= z[i,:].max()\n",
    "# z = ndimage.gaussian_filter(z, sigma=5)\n",
    "polariton_opt, pcov = curve_fit(polariton_dispersion_function,\n",
    "                                np.vstack((X.ravel(), Y.ravel())), z.ravel(),\n",
    "                                p0=[0.015,0.001,0.1],\n",
    "                                bounds=((0.01, 0.001, 0.),(0.02, 0.005,np.inf))\n",
    "                               ) \n",
    "print(polariton_opt)\n",
    "print(np.sqrt(np.diag(pcov)))"
   ]
  },
  {
   "cell_type": "code",
   "execution_count": 48,
   "id": "9fce9223",
   "metadata": {},
   "outputs": [
    {
     "data": {
      "text/plain": [
       "(1.7999999999999998, 2.0795472492761253)"
      ]
     },
     "execution_count": 48,
     "metadata": {},
     "output_type": "execute_result"
    }
   ],
   "source": [
    "# polariton_opt = [0.01,0.01,0.08032468]\n",
    "x_deg = x/rad_per_deg\n",
    "X_deg = X/rad_per_deg\n",
    "plt.subplot(1,2,2)\n",
    "plt.pcolor(x_deg, y, polariton_dispersion_function((X,Y),*polariton_opt).reshape(len(y),len(x)))\n",
    "plt.plot(x_deg, np.ones_like(x)*Ex, '--r')\n",
    "plt.plot(x_deg, photon_dispersion_line(x), 'r')\n",
    "plt.ylim([y.min(),y.max()])\n",
    "plt.title('Fit')\n",
    "\n",
    "plt.subplot(1,2,1)\n",
    "# plt.pcolor(x,y,z)\n",
    "plt.pcolor(x_deg,y,ndimage.sobel(results['R_with_monolayer'],axis=0))\n",
    "plt.clim([0.002,0.005])\n",
    "# plt.ylim([1.96,2.09])\n",
    "plt.xlabel('theta (deg)')\n",
    "plt.ylabel('E (eV)')\n",
    "\n",
    "l, u =  polariton_dispersion_line((X.ravel(),Y.ravel()),*polariton_opt)\n",
    "plt.plot(X_deg.ravel(), np.concatenate((u,l), axis=0),'.', markersize=0.5, color='orange')\n",
    "# plt.plot(results['theta'], upperpolariton_dispersion_line((results['theta'],[]), *polariton_opt))\n",
    "plt.plot(x_deg, np.ones_like(x)*Ex, '--r')\n",
    "# plt.plot(x, photon_dispersion_line((x, y.ravel()), *popt), 'r')\n",
    "plt.plot(x_deg, photon_dispersion_line(x), 'r')\n",
    "plt.title('Simulation')\n",
    "plt.ylim([y.min(),y.max()])"
   ]
  },
  {
   "cell_type": "code",
   "execution_count": null,
   "id": "3a98946d",
   "metadata": {},
   "outputs": [],
   "source": [
    "x_test = np.zeros_like(y)\n",
    "for i in range(len(x_test)):\n",
    "    x_test[i] = x[np.argmax(z[i,:])]\n",
    "    \n",
    "plt.pcolor(x,y,z)\n",
    "plt.plot(x_test, y, 'r', alpha = 0.2)"
   ]
  },
  {
   "cell_type": "code",
   "execution_count": null,
   "id": "bf67e734",
   "metadata": {},
   "outputs": [],
   "source": [
    "x.shape"
   ]
  },
  {
   "cell_type": "code",
   "execution_count": null,
   "id": "e75084b2",
   "metadata": {},
   "outputs": [],
   "source": []
  }
 ],
 "metadata": {
  "kernelspec": {
   "display_name": "Python 3 (ipykernel)",
   "language": "python",
   "name": "python3"
  },
  "language_info": {
   "codemirror_mode": {
    "name": "ipython",
    "version": 3
   },
   "file_extension": ".py",
   "mimetype": "text/x-python",
   "name": "python",
   "nbconvert_exporter": "python",
   "pygments_lexer": "ipython3",
   "version": "3.10.9"
  }
 },
 "nbformat": 4,
 "nbformat_minor": 5
}
