{
 "cells": [
  {
   "cell_type": "code",
   "execution_count": 1,
   "id": "6bd3c840",
   "metadata": {},
   "outputs": [],
   "source": [
    "import numpy as np\n",
    "from rcwa import Material, Layer, LayerStack, Source, Solver, Plotter, RectangularGrating, Crystal\n",
    "from rcwa.shorthand import complexArray\n",
    "import matplotlib.pyplot as plt\n",
    "from progressbar import ProgressBar, Counter, Bar, ETA\n",
    "from tqdm.notebook import tqdm\n"
   ]
  },
  {
   "cell_type": "markdown",
   "id": "5709d505",
   "metadata": {},
   "source": [
    "## Parameters for the simulation:"
   ]
  },
  {
   "cell_type": "code",
   "execution_count": 14,
   "id": "45bec63a",
   "metadata": {
    "scrolled": true
   },
   "outputs": [],
   "source": [
    "# Constants:\n",
    "rad_per_deg = np.pi/180.\n",
    "hc = 1.239847 # eV/um\n",
    "\n",
    "# Index of refraction functions:\n",
    "n_SiO2 = lambda wl : 1.45+0.0053/(wl**2) # Zhang et al 2018\n",
    "n_SiN = lambda wl : 2+0.013/(wl**2) # Zhang et al 2018\n",
    "eps_WS2 = lambda wl: 16 + 1.85/(2.013**2 - (hc/wl)**2 - (1j*hc*22e-3/wl)) # Zhang et al 2018\n",
    "n_hBN = lambda wl: np.sqrt(1 + (3.263*wl**2)/(wl**2-0.1644**2))\n",
    "\n",
    "# Sweep parameters:\n",
    "# startWavelength = hc/2.09\n",
    "# stopWavelength = hc/1.96\n",
    "# nstepsWavelength = 200\n",
    "startWavelength = hc/2.2\n",
    "stopWavelength = hc/1.8\n",
    "nstepsWavelength = 200\n",
    "wavelengths =np.linspace(startWavelength, stopWavelength, nstepsWavelength)\n",
    "\n",
    "\n",
    "startTheta = 0*rad_per_deg\n",
    "endTheta = 25*rad_per_deg\n",
    "nstepsTheta = 200\n",
    "thetas = np.linspace(startTheta, endTheta, nstepsTheta)\n",
    "\n",
    "# Layer parameters:\n",
    "period=0.32\n",
    "duty_cycle = 0.8\n",
    "etch_depth = 20e-3\n",
    "\n",
    "monolayer_thinkness = 0.7e-3\n",
    "top_hBN_thickness = 60e-3\n",
    "bottom_hBN_thickness = 60e-3\n",
    "\n",
    "\n",
    "\n"
   ]
  },
  {
   "cell_type": "markdown",
   "id": "3f19a990",
   "metadata": {},
   "source": [
    "## Define function to setup and solve"
   ]
  },
  {
   "cell_type": "code",
   "execution_count": 15,
   "id": "df8bb9ac",
   "metadata": {},
   "outputs": [],
   "source": [
    "def create_crystal(n_grating, period, duty_cycle, n_etch= 1., Nx=100, Ny=100, verbose=False):\n",
    "    '''\n",
    "    Create a grating along the x direction\n",
    "    '''\n",
    "    t1, t2 = complexArray([period, 0, 0]), complexArray([0, period, 0])\n",
    "\n",
    "    x0 = np.linspace(-period/2,period/2,Nx)\n",
    "    y0 = np.linspace(-period/2,period/2,Ny)\n",
    "    x, y = np.meshgrid(x0,y0,indexing='ij')\n",
    "    epgrid = np.ones((Nx,Ny))*n_grating**2\n",
    "    ind = x**2<((1-duty_cycle)*period/2)**2\n",
    "    epgrid[ind]=n_etch**2\n",
    "    mugrid = 1 + 0*epgrid\n",
    "    device_crytal = Crystal(t1, t2, er=epgrid, ur=mugrid)\n",
    "    if verbose:\n",
    "        plt.pcolor(x0, y0, epgrid)\n",
    "    return device_crytal\n",
    "    \n",
    "def R_grating(wavelengths, thetas, layers, phi=0, p_tem = [1,0]):\n",
    "    '''\n",
    "    Calculating the reflection off of a 1D grating in a rib waveguide structure solved using 2D RWCA.\n",
    "    Params:\n",
    "        wavelengths: 1D array to sweep for wavelengths in units of microns\n",
    "        thetas: 1D array to sweep for incident angles (from surface normal) in radians\n",
    "        layers: List of parameters for each layer, first and last layer are the incident layer and substrate layer which are semiinfinite.\n",
    "        phi: xy-plane azimuthal angle, phi = 0 : projection onto x-axis, phi=90: projecction onto y-axis\n",
    "        p_tem: incident polarization [1,0] TE, [0,1] TM, can be complex to represent circular polarization\n",
    "    Returns:\n",
    "        R: Reflection intensity array of size (len(wavelengths), len(thetas))\n",
    "    '''\n",
    "    # Initialize variables\n",
    "    nstepsWavelength = len(wavelengths)\n",
    "    nstepsTheta = len(thetas)\n",
    "    R = np.zeros((nstepsWavelength, nstepsTheta))\n",
    "    # Initialize theta sweep progress bar\n",
    "    thbar = ProgressBar(widgets=[Counter(), f'/{nstepsTheta} ', Bar(), ETA()], maxval=nstepsTheta)\n",
    "\n",
    "    with tqdm(total=nstepsWavelength) as wlbar:  # Initialize wavelength progress bar\n",
    "        # Sweep wavelength\n",
    "        for i_wl, wl in enumerate(wavelengths):\n",
    "          # Setup the Geometry\n",
    "            layerobjs = []\n",
    "            ## Create first and last layer\n",
    "            air = Layer(n=layers[0]['n'](wl))\n",
    "            substrate = Layer(n=layers[-1]['n'](wl))\n",
    "            # loop and create other layers\n",
    "            for layer in layers[1:-1]:\n",
    "                # check if it is a grating layer or a uniform layer\n",
    "                if 'period' in layer.keys():  # if grating layer\n",
    "                    n_grating = layer['n'](wl)\n",
    "                    # Create grooves\n",
    "                    grating_layer = Layer(crystal=create_crystal(n_grating, layer['period'], layer['duty_cycle']),\n",
    "                                          thickness=layer['etch_depth'])\n",
    "                    layerobjs.append(grating_layer)\n",
    "                    # Create rest of waveguide layer\n",
    "                    layerobjs.append(Layer(thickness=layer['waveguide_thickness']-layer['etch_depth'], n=n_grating))\n",
    "                else: # Uniform layer\n",
    "                    if 'er' in layer.keys(): # if epsilon is given\n",
    "                        layerobjs.append(Layer(thickness=layer['thickness'], er=layer['er'](wl)))\n",
    "                    elif 'n' in layer.keys(): # if index of refraction is given\n",
    "                        layerobjs.append(Layer(thickness=layer['thickness'], n=layer['n'](wl)))\n",
    "        \n",
    "         # Create layer stack\n",
    "            stack = LayerStack(*layerobjs, transmission_layer=substrate, incident_layer=air)\n",
    "\n",
    "         # Setup the source\n",
    "            source = Source(wavelength=wl, theta=0., phi = phi, pTEM=p_tem, layer=air)    \n",
    "\n",
    "         # Setup the Solver\n",
    "            harmonics = (3,3)\n",
    "            solver = Solver(stack, source,harmonics)\n",
    "\n",
    "         # Solve\n",
    "            results = solver.solve(theta=thetas,  max_iters=1000, progressbar=thbar)\n",
    "            # Update wavelength bars\n",
    "            wlbar.update(1)\n",
    "\n",
    "            R[i_wl,:] = np.array(results['RTot'])\n",
    "    return wavelengths, thetas, R"
   ]
  },
  {
   "cell_type": "code",
   "execution_count": 16,
   "id": "e3ab8346",
   "metadata": {},
   "outputs": [
    {
     "data": {
      "application/vnd.jupyter.widget-view+json": {
       "model_id": "bfe3dd6e727148a78376f2a0eb778e6d",
       "version_major": 2,
       "version_minor": 0
      },
      "text/plain": [
       "  0%|          | 0/200 [00:00<?, ?it/s]"
      ]
     },
     "metadata": {},
     "output_type": "display_data"
    },
    {
     "name": "stderr",
     "output_type": "stream",
     "text": [
      "200/200 |#######################################################|Time:  0:00:02\n",
      "200/200 |#######################################################|Time:  0:00:03"
     ]
    },
    {
     "data": {
      "application/vnd.jupyter.widget-view+json": {
       "model_id": "f1c729d9d14a400bb7370233779be715",
       "version_major": 2,
       "version_minor": 0
      },
      "text/plain": [
       "  0%|          | 0/200 [00:00<?, ?it/s]"
      ]
     },
     "metadata": {},
     "output_type": "display_data"
    },
    {
     "name": "stderr",
     "output_type": "stream",
     "text": [
      "200/200 |#######################################################|Time:  0:00:03\n",
      "200/200 |#######################################################|Time:  0:00:02"
     ]
    },
    {
     "data": {
      "application/vnd.jupyter.widget-view+json": {
       "model_id": "14dab9bba7e44cb0a768eef07c4da114",
       "version_major": 2,
       "version_minor": 0
      },
      "text/plain": [
       "  0%|          | 0/200 [00:00<?, ?it/s]"
      ]
     },
     "metadata": {},
     "output_type": "display_data"
    },
    {
     "name": "stderr",
     "output_type": "stream",
     "text": [
      "200/200 |#######################################################|Time:  0:00:02\n",
      "200/200 |#######################################################|Time:  0:00:01"
     ]
    }
   ],
   "source": [
    "# From top to bottom\n",
    "layers = [\n",
    "    {'n': lambda wl: 1.}, # air\n",
    "    {'period': period, 'duty_cycle':duty_cycle, 'etch_depth':etch_depth, 'waveguide_thickness': top_hBN_thickness, 'n': n_hBN}, # grating layer\n",
    "    {'thickness': monolayer_thinkness, 'er': eps_WS2}, # monolayer\n",
    "    {'thickness': bottom_hBN_thickness, 'n': n_hBN}, # top hBN\n",
    "    {'n': n_SiO2}, # Substrate \n",
    "]\n",
    "wl, th, results_with_grating = R_grating(wavelengths, thetas, layers)\n",
    "\n",
    "layers = [\n",
    "    {'n': lambda wl: 1.}, # air\n",
    "    {'period': period, 'duty_cycle':1., 'etch_depth':etch_depth, 'waveguide_thickness': top_hBN_thickness, 'n': n_hBN}, # grating layer\n",
    "    {'thickness': monolayer_thinkness, 'er': eps_WS2}, # monolayer\n",
    "    {'thickness': bottom_hBN_thickness, 'n': n_hBN}, # bottom hBN\n",
    "    {'n': n_SiO2}, # Substrate \n",
    "]\n",
    "wl, th, results_no_grating = R_grating(wavelengths, thetas, layers)\n",
    "\n",
    "layers = [\n",
    "    {'n': lambda wl: 1.}, # air\n",
    "    {'period': period, 'duty_cycle':duty_cycle, 'etch_depth':etch_depth, 'waveguide_thickness': top_hBN_thickness, 'n': n_hBN}, # grating layer\n",
    "    {'thickness': bottom_hBN_thickness, 'n': n_hBN}, # bottom hBN\n",
    "    {'n': n_SiO2}, # Substrate \n",
    "]\n",
    "wl, th, results_no_monolayer = R_grating(wavelengths, thetas, layers)\n"
   ]
  },
  {
   "cell_type": "markdown",
   "id": "85e88c8f",
   "metadata": {},
   "source": [
    "##  Plot Results:"
   ]
  },
  {
   "cell_type": "code",
   "execution_count": 39,
   "id": "b58dd111",
   "metadata": {
    "scrolled": true
   },
   "outputs": [
    {
     "data": {
      "text/plain": [
       "Text(0, 0.5, 'E (eV)')"
      ]
     },
     "execution_count": 39,
     "metadata": {},
     "output_type": "execute_result"
    },
    {
     "data": {
      "image/png": "[encoded data removed]",
      "text/plain": [
       "<Figure size 640x480 with 2 Axes>"
      ]
     },
     "metadata": {},
     "output_type": "display_data"
    }
   ],
   "source": [
    "from scipy import ndimage\n",
    "results  = results_with_grating - results_no_grating\n",
    "cwl = (stopWavelength+startWavelength)/2\n",
    "k =  2*n_SiN(cwl)*np.pi*(np.sin(th)/cwl)\n",
    "# plt.pcolor(thetas/rad_per_deg, hc/wl[:-1], np.diff(results,axis=0))\n",
    "# plt.pcolor(thetas/rad_per_deg, hc/wl, ndimage.sobel(results,axis=0)+ndimage.sobel(results,axis=0))\n",
    "plt.subplot(1,2,1)\n",
    "# plt.pcolor(thetas/rad_per_deg, hc/wl, results>0.006)\n",
    "# plt.pcolor(thetas/rad_per_deg, hc/wl, ndimage.sobel(results,axis=0))\n",
    "plt.pcolor(thetas/rad_per_deg, hc/wl, results_with_grating-results_no_grating)\n",
    "# plt.colorbar()\n",
    "\n",
    "plt.clim([0.002,0.05])\n",
    "# plt.ylim([1.96,2.09])\n",
    "plt.xlabel('theta (deg)')\n",
    "plt.ylabel('E (eV)')\n",
    "\n",
    "plt.subplot(1,2,2)\n",
    "plt.pcolor(thetas/rad_per_deg, hc/wl, results_no_monolayer)\n",
    "plt.clim([0.002,0.5])\n",
    "# plt.colorbar()\n",
    "# plt.clim([0.002,0.5])\n",
    "# plt.ylim([1.96,2.09])\n",
    "plt.xlabel('theta (deg)')\n",
    "plt.ylabel('E (eV)')\n"
   ]
  },
  {
   "cell_type": "markdown",
   "id": "48cc5d23",
   "metadata": {},
   "source": [
    "# Save Results:"
   ]
  },
  {
   "cell_type": "code",
   "execution_count": 40,
   "id": "93e47334",
   "metadata": {},
   "outputs": [],
   "source": [
    "import pickle\n",
    "with open('python_RWCA_'+str(period)+'.pkl', 'wb') as handle:\n",
    "    a = {'wavelength': wl, 'E': hc/wl, 'theta': th, 'R_no_monolayer': results_no_monolayer, 'R_with_monolayer': results}\n",
    "    pickle.dump(a, handle, protocol=pickle.HIGHEST_PROTOCOL)"
   ]
  },
  {
   "cell_type": "code",
   "execution_count": null,
   "id": "ad0f29ee",
   "metadata": {},
   "outputs": [],
   "source": [
    "import skimage.feature\n",
    "edges = skimage.feature.canny(\n",
    "    image=ndimage.maximum_filter(results_no_monolayer, size=(20,20)),\n",
    "    sigma=1,\n",
    "    low_threshold=0.014,\n",
    "    high_threshold=0.015,\n",
    ")\n",
    "plt.imshow(results_no_monolayer)\n",
    "plt.clim([0.002,0.02])\n",
    "\n",
    "plt.imshow(edges, alpha=0.2, cmap='Reds')"
   ]
  },
  {
   "cell_type": "code",
   "execution_count": null,
   "id": "cf9c45aa",
   "metadata": {},
   "outputs": [],
   "source": []
  },
  {
   "cell_type": "code",
   "execution_count": null,
   "id": "3536d1dd",
   "metadata": {},
   "outputs": [],
   "source": []
  }
 ],
 "metadata": {
  "kernelspec": {
   "display_name": "Python 3 (ipykernel)",
   "language": "python",
   "name": "python3"
  },
  "language_info": {
   "codemirror_mode": {
    "name": "ipython",
    "version": 3
   },
   "file_extension": ".py",
   "mimetype": "text/x-python",
   "name": "python",
   "nbconvert_exporter": "python",
   "pygments_lexer": "ipython3",
   "version": "3.10.9"
  }
 },
 "nbformat": 4,
 "nbformat_minor": 5
}
